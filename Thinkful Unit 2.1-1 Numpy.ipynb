{
 "cells": [
  {
   "cell_type": "markdown",
   "metadata": {},
   "source": [
    "[_NumPy_](https://docs.scipy.org/doc/numpy/reference/) is the basic package for doing slightly more advanced math and storing data in an analytics-friendly form.\n",
    "\n",
    "Once NumPy is installed we have to import the package into our current environment. This is done with an `import` statement. When importing a package you have the opportunity to set an abbreviation for recalling its functions. Many packages have standard shorthand. The shorthand for `numpy` is simply `np`. You can import and set the abbreviation like this:"
   ]
  },
  {
   "cell_type": "code",
   "execution_count": 1,
   "metadata": {},
   "outputs": [],
   "source": [
    "import numpy as np"
   ]
  },
  {
   "cell_type": "markdown",
   "metadata": {},
   "source": [
    "**NOTE** that [Python style](https://www.python.org/dev/peps/pep-0008/#imports) requires they should always appear at the beginning of the script. This allows for easy validation if the necessary packages are installed and keeps track of them in a single place.\n",
    "\n",
    "### Arrays ###\n",
    "\n",
    "NumPy array is like a Python list with additional mathematical functionality and properties.  Arrays like lists can have multiple dimensions.  A single dimension works like an ordered set of values, with various points entered in it.  Arrays use bracket notation `[` `]` to acess items by index. Create and array by calling `np.array` and passing in any iterable."
   ]
  },
  {
   "cell_type": "code",
   "execution_count": 2,
   "metadata": {},
   "outputs": [
    {
     "data": {
      "text/plain": [
       "array([0, 1, 2, 3])"
      ]
     },
     "execution_count": 2,
     "metadata": {},
     "output_type": "execute_result"
    }
   ],
   "source": [
    "x = np.array([0, 1, 2, 3])\n",
    "x"
   ]
  },
  {
   "cell_type": "markdown",
   "metadata": {},
   "source": [
    "Remember that you can run and re-run these code cells individually. A good shortcut for running a cell is pressing <kbd>shift</kbd> + <kbd>enter</kbd> from within the cell.\n",
    "\n",
    "You can add multiple dimensions to your array by either manually creating an array of arrays or with `np.arange()`. Here are two ways to generate the same thing:"
   ]
  },
  {
   "cell_type": "code",
   "execution_count": 3,
   "metadata": {},
   "outputs": [
    {
     "data": {
      "text/plain": [
       "array([[0, 1, 2, 3],\n",
       "       [4, 5, 6, 7]])"
      ]
     },
     "execution_count": 3,
     "metadata": {},
     "output_type": "execute_result"
    }
   ],
   "source": [
    "w = np.array([[0, 1, 2, 3],[4, 5, 6, 7]])\n",
    "w"
   ]
  },
  {
   "cell_type": "code",
   "execution_count": 4,
   "metadata": {},
   "outputs": [
    {
     "data": {
      "text/plain": [
       "array([[0, 1, 2, 3],\n",
       "       [4, 5, 6, 7]])"
      ]
     },
     "execution_count": 4,
     "metadata": {},
     "output_type": "execute_result"
    }
   ],
   "source": [
    "y = np.arange(8).reshape(2, 4)\n",
    "y"
   ]
  },
  {
   "attachments": {},
   "cell_type": "markdown",
   "metadata": {},
   "source": [
    "`np.arange()` (\"arange\" is short for \"array range\") works similarly to the basic Python `range()` function by generating a sequence of integers, starting at 0 by default and incrementing by 1. But instead of returning a `range()` object it returns an array. We're taking advantage of that by calling the `.reshape()` [array method](https://docs.scipy.org/doc/numpy/reference/generated/numpy.ndarray.reshape.html) to reshape the initial eight-item array into two four-item arrays.\n",
    "\n",
    "Using `arange()` and `.reshape()`is a common way to create arrays.\n",
    "\n",
    "### Element-wise and Aggregator functions ###\n",
    "NumPy's primary value is the ability to do more sophisticated arithmetic than basic Python can do out of the box. NumPy allows you to do these computations in two ways: with *element-wise* functions that process array elements one at a time and then return a new array, and with *aggregator* functions that process the array into a single value the function returns."
   ]
  },
  {
   "cell_type": "code",
   "execution_count": 5,
   "metadata": {},
   "outputs": [
    {
     "name": "stdout",
     "output_type": "stream",
     "text": [
      "[0 1 4 9]\n",
      "[0.         1.         1.41421356 1.73205081]\n",
      "[ 1.          0.54030231 -0.41614684 -0.9899925 ]\n"
     ]
    }
   ],
   "source": [
    "x = np.array([0, 1, 2, 3])\n",
    "\n",
    "# Square each value\n",
    "print(np.square(x))\n",
    "\n",
    "# Square root of each value\n",
    "print(np.sqrt(x))\n",
    "\n",
    "# Cosine of each value\n",
    "print(np.cos(x))"
   ]
  },
  {
   "cell_type": "markdown",
   "metadata": {},
   "source": [
    "Note that these methods return arrays of the same length as the input array, just like the built-in Python function `map()`. Use element-wise functions when you want to transform each individual element in an array and get back a collection of all the results.\n",
    "\n",
    "Here are some aggregator functions that aggregate the elements of an array and return a single value:"
   ]
  },
  {
   "cell_type": "code",
   "execution_count": 6,
   "metadata": {},
   "outputs": [
    {
     "name": "stdout",
     "output_type": "stream",
     "text": [
      "3\n",
      "1.5\n",
      "1.118033988749895\n"
     ]
    }
   ],
   "source": [
    "x = np.array([0, 1, 2, 3])\n",
    "\n",
    "# Find the max value\n",
    "print(np.max(x))\n",
    "\n",
    "# Find the mean\n",
    "print(np.mean(x))\n",
    "\n",
    "# Find the standard deviation\n",
    "print(np.std(x))"
   ]
  },
  {
   "cell_type": "markdown",
   "metadata": {},
   "source": [
    "**NOTE** that these aggregator functions return single values, rather than arrays. That is what an **_aggregator_** does. It takes a set of multiple data values and condenses them (or aggregates them) into a single value according to some rule. So `np.min()` returns the minimum value of all the data given to it, `np.mean()` the mean, and so on.\n",
    "\n",
    "These are some of the basic functions of NumPy, but there are many more. To explore the basic [NumPy documentation](https://docs.scipy.org/doc/numpy-dev/user/quickstart.html)."
   ]
  }
 ],
 "metadata": {
  "kernelspec": {
   "display_name": "Python 3",
   "language": "python",
   "name": "python3"
  },
  "language_info": {
   "codemirror_mode": {
    "name": "ipython",
    "version": 3
   },
   "file_extension": ".py",
   "mimetype": "text/x-python",
   "name": "python",
   "nbconvert_exporter": "python",
   "pygments_lexer": "ipython3",
   "version": "3.7.1"
  }
 },
 "nbformat": 4,
 "nbformat_minor": 2
}
