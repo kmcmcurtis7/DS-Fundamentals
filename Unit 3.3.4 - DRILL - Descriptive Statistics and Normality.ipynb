{
 "cells": [
  {
   "cell_type": "markdown",
   "metadata": {},
   "source": [
    "Unit 3 / Lesson 3 / Project 4\n",
    "\n",
    "### DRILL - Descriptive Statistics and Normality"
   ]
  },
  {
   "cell_type": "markdown",
   "metadata": {},
   "source": [
    "To complete the following drills, you'll need to use your Python skills to create some datasets, then use your new statistical knowledge to summarize them. Choose 6 distributions from the list of random distributions available in NumPy, called [“Distributions”](https://docs.scipy.org/doc/numpy/reference/routines.random.html#distributions)\n",
    "\n",
    "For each distribution:\n",
    "\n",
    "1. Generate a random variable with 100 datapoints using the code `distributionvar = np.random.distributionname([arguments], 100)`, replacing `distributionvar` with an appropriate variable name and `distributionname` with the name of the distribution you’ve chosen, and filling in the empty space in the parentheses with your chosen values for the appropriate parameters. If you feel uncertain about how to do this, go back to the “Other Distributions” assignment for examples of code to use as a starting point.\n",
    "\n",
    "\n",
    "2. Graph the variable using a histogram."
   ]
  },
  {
   "cell_type": "code",
   "execution_count": 1,
   "metadata": {},
   "outputs": [],
   "source": [
    "import pandas as pd\n",
    "import numpy as np\n",
    "import matplotlib.pyplot as plt\n",
    "%matplotlib inline"
   ]
  },
  {
   "cell_type": "code",
   "execution_count": 2,
   "metadata": {},
   "outputs": [],
   "source": [
    "# 1st distribution - Gamma distribution\n",
    "# https://en.wikipedia.org/wiki/Gamma_distribution\n",
    "# gamma(shape,scale=1.0, size)\n",
    "gamma = np.random.gamma(5,1,100)"
   ]
  },
  {
   "cell_type": "code",
   "execution_count": 3,
   "metadata": {},
   "outputs": [
    {
     "data": {
      "image/png": "[encoded data removed]",
      "text/plain": [
       "<Figure size 432x288 with 1 Axes>"
      ]
     },
     "metadata": {
      "needs_background": "light"
     },
     "output_type": "display_data"
    }
   ],
   "source": [
    "# Gamma histogram \n",
    "plt.hist(gamma, bins=20,color='c')\n",
    "\n",
    "# Add vertical line at the mean.\n",
    "plt.axvline(gamma.mean(), color='b',linestyle='solid',linewidth=2)\n",
    "\n",
    "# Add a vertical line at one standard deviation above the mean.\n",
    "plt.axvline(gamma.mean() + gamma.std(), color='b', linestyle='dashed', linewidth=2)\n",
    "\n",
    "# Add a vertical line at one standard deviation below the mean.\n",
    "plt.axvline(gamma.mean()-gamma.std(), color='b', linestyle='dashed', linewidth=2) \n",
    "\n",
    "plt.show()"
   ]
  },
  {
   "cell_type": "code",
   "execution_count": 4,
   "metadata": {},
   "outputs": [],
   "source": [
    "# 2nd distribution -  Hypergeometric distribution\n",
    "# https://en.wikipedia.org/wiki/Hypergeometric_distribution\n",
    "# hypergeometric(ngood, nbad, nsample,size=None)\n",
    "hypergeometric = np.random.hypergeometric(10,5,2,100)"
   ]
  },
  {
   "cell_type": "code",
   "execution_count": 5,
   "metadata": {},
   "outputs": [
    {
     "data": {
      "image/png": "[encoded data removed]",
      "text/plain": [
       "<Figure size 432x288 with 1 Axes>"
      ]
     },
     "metadata": {
      "needs_background": "light"
     },
     "output_type": "display_data"
    }
   ],
   "source": [
    "# Hypergeometric histogram\n",
    "plt.hist(hypergeometric, bins=10, color='c')\n",
    "\n",
    "# Add vertical line at the mean.\n",
    "plt.axvline(hypergeometric.mean(), color='b',linestyle='solid',linewidth=2)\n",
    "\n",
    "# Add a vertical line at one standard deviation above the mean.\n",
    "plt.axvline(hypergeometric.mean() + hypergeometric.std(), color='b', linestyle='dashed', linewidth=2)\n",
    "\n",
    "# Add a vertical line at one standard deviation below the mean.\n",
    "plt.axvline(hypergeometric.mean()-hypergeometric.std(), color='b', linestyle='dashed', linewidth=2) \n",
    "\n",
    "plt.show()"
   ]
  },
  {
   "cell_type": "code",
   "execution_count": 6,
   "metadata": {},
   "outputs": [],
   "source": [
    "# 3rd distribution -  Dirichlet distribution\n",
    "# https://en.wikipedia.org/wiki/Dirichlet_distribution\n",
    "# dirichlet(alpha, size)\n",
    "dirichlet = np.random.dirichlet((1,5,10), 100)"
   ]
  },
  {
   "cell_type": "code",
   "execution_count": 7,
   "metadata": {},
   "outputs": [
    {
     "data": {
      "image/png": "[encoded data removed]",
      "text/plain": [
       "<Figure size 432x288 with 1 Axes>"
      ]
     },
     "metadata": {
      "needs_background": "light"
     },
     "output_type": "display_data"
    }
   ],
   "source": [
    "# Dirichlet histogram\n",
    "plt.hist(dirichlet, bins=10)\n",
    "\n",
    "# Add vertical line at the mean.\n",
    "plt.axvline(dirichlet.mean(), color='b',linestyle='solid',linewidth=2)\n",
    "\n",
    "# Add a vertical line at one standard deviation above the mean.\n",
    "plt.axvline(dirichlet.mean() + dirichlet.std(), color='b', linestyle='dashed', linewidth=2)\n",
    "\n",
    "# Add a vertical line at one standard deviation below the mean.\n",
    "plt.axvline(dirichlet.mean()-dirichlet.std(), color='b', linestyle='dashed', linewidth=2) \n",
    "\n",
    "plt.show()"
   ]
  },
  {
   "cell_type": "code",
   "execution_count": 8,
   "metadata": {},
   "outputs": [],
   "source": [
    "# 4th distribution -  Logistic distribution\n",
    "# https://en.wikipedia.org/wiki/Logistic_distribution\n",
    "# logistic(loc=0.0, scale=1.0, size=None)\n",
    "log = np.random.logistic(0,5,100)"
   ]
  },
  {
   "cell_type": "code",
   "execution_count": 9,
   "metadata": {},
   "outputs": [
    {
     "data": {
      "image/png": "[encoded data removed]",
      "text/plain": [
       "<Figure size 432x288 with 1 Axes>"
      ]
     },
     "metadata": {
      "needs_background": "light"
     },
     "output_type": "display_data"
    }
   ],
   "source": [
    "# Logistic histogram\n",
    "plt.hist(log, bins=10, color='c')\n",
    "\n",
    "# Add vertical line at the mean.\n",
    "plt.axvline(log.mean(), color='b',linestyle='solid',linewidth=2)\n",
    "\n",
    "# Add a vertical line at one standard deviation above the mean.\n",
    "plt.axvline(log.mean() + log.std(), color='b', linestyle='dashed', linewidth=2)\n",
    "\n",
    "# Add a vertical line at one standard deviation below the mean.\n",
    "plt.axvline(log.mean()-log.std(), color='b', linestyle='dashed', linewidth=2) \n",
    "\n",
    "plt.show()"
   ]
  },
  {
   "cell_type": "code",
   "execution_count": 10,
   "metadata": {},
   "outputs": [],
   "source": [
    "# 5th distribution -  Rayleigh distribution\n",
    "# https://en.wikipedia.org/wiki/Rayleigh_distribution\n",
    "# rayleigh(scale=1.0,size=None)\n",
    "rayleigh = np.random.rayleigh(5,100)"
   ]
  },
  {
   "cell_type": "code",
   "execution_count": 11,
   "metadata": {},
   "outputs": [
    {
     "data": {
      "image/png": "[encoded data removed]",
      "text/plain": [
       "<Figure size 432x288 with 1 Axes>"
      ]
     },
     "metadata": {
      "needs_background": "light"
     },
     "output_type": "display_data"
    }
   ],
   "source": [
    "# Rayleigh histogram\n",
    "plt.hist(rayleigh, bins=10,color='c')\n",
    "\n",
    "# Add vertical line at the mean.\n",
    "plt.axvline(rayleigh.mean(), color='b',linestyle='solid',linewidth=2)\n",
    "\n",
    "# Add a vertical line at one standard deviation above the mean.\n",
    "plt.axvline(rayleigh.mean() + rayleigh.std(), color='b', linestyle='dashed', linewidth=2)\n",
    "\n",
    "# Add a vertical line at one standard deviation below the mean.\n",
    "plt.axvline(rayleigh.mean()-rayleigh.std(), color='b', linestyle='dashed', linewidth=2) \n",
    "\n",
    "plt.show()"
   ]
  },
  {
   "cell_type": "code",
   "execution_count": 12,
   "metadata": {},
   "outputs": [],
   "source": [
    "# 6th distribution -  Wald distribution\n",
    "# https://en.wikipedia.org/wiki/Inverse_Gaussian_distribution\n",
    "# wald(mean, scale, size=None)\n",
    "wald = np.random.wald(1, 5, 100)"
   ]
  },
  {
   "cell_type": "code",
   "execution_count": 13,
   "metadata": {
    "scrolled": true
   },
   "outputs": [
    {
     "data": {
      "image/png": "[encoded data removed]",
      "text/plain": [
       "<Figure size 432x288 with 1 Axes>"
      ]
     },
     "metadata": {
      "needs_background": "light"
     },
     "output_type": "display_data"
    }
   ],
   "source": [
    "# Wald histogram\n",
    "plt.hist(wald, bins=10, color='c')\n",
    "\n",
    "# Add vertical line at the mean.\n",
    "plt.axvline(wald.mean(), color='b',linestyle='solid',linewidth=2)\n",
    "\n",
    "# Add a vertical line at one standard deviation above the mean.\n",
    "plt.axvline(wald.mean() + wald.std(), color='b', linestyle='dashed', linewidth=2)\n",
    "\n",
    "# Add a vertical line at one standard deviation below the mean.\n",
    "plt.axvline(wald.mean()-wald.std(), color='b', linestyle='dashed', linewidth=2) \n",
    "\n",
    "plt.show()"
   ]
  },
  {
   "cell_type": "markdown",
   "metadata": {},
   "source": [
    "3. Compute the mean and standard deviation and plot them as vertical lines on the histogram. (Hint: the “When Does It Break?” assignment you just completed can help you here.)"
   ]
  },
  {
   "cell_type": "markdown",
   "metadata": {},
   "source": [
    "4. Evaluate whether the descriptive statistics provided useful information about the variable. Can you identify any common characteristics of the distributions that could be usefully described using the mean and/or standard deviation, versus the ones that could not?\n",
    "\n",
    "   * Each distribution is different and for most of them 10 bins is enough to show some skew in the data, I believe for the hypergeometric and dirichlet more data will provide a better histogram than with the little in this example."
   ]
  },
  {
   "cell_type": "markdown",
   "metadata": {},
   "source": [
    "#### Additionally: \n",
    "\n",
    "1. Generate two normally-distributed variables, one with a mean of 5 and standard deviation of 0.5, and the other with a mean of 10 and standard deviation of 1.\n",
    "\n",
    "2. Add them together to create a third variable.\n",
    "\n",
    "3. Graph the third variable using a histogram.\n",
    "\n",
    "4. Compute the mean and standard deviation and plot them as vertical lines on the histogram.\n",
    "\n",
    "5. Evaluate the descriptive statistics against the data.\n",
    "\n",
    "   * This distribution shows it is negatively skewed.  However seeing how the data is distributed it would not take much more data to change this to a normally distributed histogram(Central Limit Theorem).\n",
    "\n",
    "When you've given it a try, you can find a sample solution [here](https://github.com/Thinkful-Ed/data-201-resources/blob/master/solutions/Prep%20course/3.3.4.ipynb)."
   ]
  },
  {
   "cell_type": "code",
   "execution_count": 16,
   "metadata": {},
   "outputs": [],
   "source": [
    "# Two normally distributed variables\n",
    "norm_1 = np.random.normal(5, 0.5, 100)\n",
    "norm_2 = np.random.normal(10, 1, 100)\n",
    "third_var = norm_1 + norm_2"
   ]
  },
  {
   "cell_type": "code",
   "execution_count": 17,
   "metadata": {},
   "outputs": [
    {
     "data": {
      "image/png": "[encoded data removed]",
      "text/plain": [
       "<Figure size 432x288 with 1 Axes>"
      ]
     },
     "metadata": {
      "needs_background": "light"
     },
     "output_type": "display_data"
    }
   ],
   "source": [
    "# Plot/Print a histogram with third_var\n",
    "plt.hist(third_var, color='c')\n",
    "\n",
    "# Add vertical line at the mean.\n",
    "plt.axvline(third_var.mean(), color='b',linestyle='solid',linewidth=2)\n",
    "\n",
    "# Add a vertical line at one standard deviation above the mean.\n",
    "plt.axvline(third_var.mean() + third_var.std(), color='b', linestyle='dashed', linewidth=2)\n",
    "\n",
    "# Add a vertical line at one standard deviation below the mean.\n",
    "plt.axvline(third_var.mean()-third_var.std(), color='b', linestyle='dashed', linewidth=2) \n",
    "\n",
    "plt.show()"
   ]
  },
  {
   "cell_type": "code",
   "execution_count": null,
   "metadata": {},
   "outputs": [],
   "source": []
  }
 ],
 "metadata": {
  "kernelspec": {
   "display_name": "Python 3",
   "language": "python",
   "name": "python3"
  },
  "language_info": {
   "codemirror_mode": {
    "name": "ipython",
    "version": 3
   },
   "file_extension": ".py",
   "mimetype": "text/x-python",
   "name": "python",
   "nbconvert_exporter": "python",
   "pygments_lexer": "ipython3",
   "version": "3.7.1"
  }
 },
 "nbformat": 4,
 "nbformat_minor": 2
}
