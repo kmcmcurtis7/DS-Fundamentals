{
 "cells": [
  {
   "cell_type": "code",
   "execution_count": 1,
   "metadata": {},
   "outputs": [
    {
     "name": "stdout",
     "output_type": "stream",
     "text": [
      "Using matplotlib backend: Qt5Agg\n"
     ]
    }
   ],
   "source": [
    "import numpy as np\n",
    "import pandas as pd\n",
    "from statistics import mode\n",
    "%matplotlib"
   ]
  },
  {
   "cell_type": "code",
   "execution_count": 2,
   "metadata": {},
   "outputs": [],
   "source": [
    "#setup the data\n",
    "data = pd.DataFrame()\n",
    "age = [14,12,11,10,8,8,6]"
   ]
  },
  {
   "cell_type": "code",
   "execution_count": 15,
   "metadata": {},
   "outputs": [
    {
     "name": "stdout",
     "output_type": "stream",
     "text": [
      "Mean:  9.857142857142858\n",
      "Median:  10.0\n",
      "Variance:  6.408163265306122\n",
      "SD:  2.531435020952764\n",
      "SE:  0.9567925036515135\n",
      "The mode is [8].\n"
     ]
    }
   ],
   "source": [
    "def describing_data(age):\n",
    "    print('Mean: ', np.mean(age))\n",
    "    print('Median: ', np.median(age))\n",
    "    print('Variance: ', np.var(age))\n",
    "    print('SD: ', np.std(age))\n",
    "    print('SE: ', np.std(age)/np.sqrt(len(age)))\n",
    "describing_data(age)\n",
    "\n",
    "def modes(age):\n",
    "    most = max(list(map(age.count, age))) \n",
    "    x = sorted(list(set(filter(lambda x: age.count(x) == most, age))))\n",
    "    if list(set(x) ^ set(age)) == []:\n",
    "        x = []\n",
    "    print('The mode is {}.'.format(x))\n",
    "\n",
    "modes(age)"
   ]
  },
  {
   "cell_type": "code",
   "execution_count": 17,
   "metadata": {},
   "outputs": [
    {
     "name": "stdout",
     "output_type": "stream",
     "text": [
      "Mean:  10.0\n",
      "Median:  10.0\n",
      "Variance:  5.428571428571429\n",
      "SD:  2.32992949004287\n",
      "SE:  0.8806305718527109\n",
      "The mode is [8].\n"
     ]
    }
   ],
   "source": [
    "age2 = [14,12,11,10,8,8,7]\n",
    "describing_data(age2)\n",
    "modes(age2)"
   ]
  },
  {
   "cell_type": "code",
   "execution_count": 19,
   "metadata": {},
   "outputs": [
    {
     "name": "stdout",
     "output_type": "stream",
     "text": [
      "Mean:  10.0\n",
      "Median:  10.0\n",
      "Variance:  5.428571428571429\n",
      "SD:  2.32992949004287\n",
      "SE:  0.8806305718527109\n",
      "The mode is [].\n"
     ]
    }
   ],
   "source": [
    "age3 = [14,12,11,10,8,7,1]\n",
    "describing_data(age2)\n",
    "modes(age3)"
   ]
  },
  {
   "cell_type": "code",
   "execution_count": 14,
   "metadata": {},
   "outputs": [
    {
     "name": "stdout",
     "output_type": "stream",
     "text": [
      "Mean:  0.16250000000000003\n",
      "Median:  0.185\n",
      "Variance:  0.00466875\n",
      "SD:  0.06832825184358224\n",
      "SE:  0.03416412592179112\n",
      "The mode is [0.05, 0.17, 0.2, 0.23].\n"
     ]
    }
   ],
   "source": [
    "magazine = [0.20,0.23,0.17,0.05]\n",
    "describing_data(magazine)\n",
    "modes(magazine)"
   ]
  }
 ],
 "metadata": {
  "kernelspec": {
   "display_name": "Python 3",
   "language": "python",
   "name": "python3"
  },
  "language_info": {
   "codemirror_mode": {
    "name": "ipython",
    "version": 3
   },
   "file_extension": ".py",
   "mimetype": "text/x-python",
   "name": "python",
   "nbconvert_exporter": "python",
   "pygments_lexer": "ipython3",
   "version": "3.7.1"
  }
 },
 "nbformat": 4,
 "nbformat_minor": 2
}
