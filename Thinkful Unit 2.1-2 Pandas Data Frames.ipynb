{
 "cells": [
  {
   "attachments": {},
   "cell_type": "markdown",
   "metadata": {},
   "source": [
    "Pandas is probably the most heavily utilized package in Python for data scientists. Built on top of NumPy, it is essential to data manipulation, organization, and modeling. Here we'll introduce some of its core functionalities as well as its primary data structure: the **_data frame_**."
   ]
  },
  {
   "cell_type": "code",
   "execution_count": 1,
   "metadata": {},
   "outputs": [],
   "source": [
    "import pandas as pd\n",
    "import numpy as np"
   ]
  },
  {
   "cell_type": "markdown",
   "metadata": {},
   "source": [
    "## The Data Frame\n",
    "\n",
    "The *data frame* is like a NumPy array, with a few additional features like column names and row indexing. It is probably the primary way data scientists handle data. You can create a data frame in many different ways, either from csv files, by querying databases, or explicitly. For your first data frame, let's create a 2-dimensional Numpy array. Then, to create a data frame use the `pd.DataFrame()` function and pass in the NumPy array:"
   ]
  },
  {
   "cell_type": "code",
   "execution_count": 2,
   "metadata": {},
   "outputs": [
    {
     "data": {
      "text/html": [
       "<div>\n",
       "<style scoped>\n",
       "    .dataframe tbody tr th:only-of-type {\n",
       "        vertical-align: middle;\n",
       "    }\n",
       "\n",
       "    .dataframe tbody tr th {\n",
       "        vertical-align: top;\n",
       "    }\n",
       "\n",
       "    .dataframe thead th {\n",
       "        text-align: right;\n",
       "    }\n",
       "</style>\n",
       "<table border=\"1\" class=\"dataframe\">\n",
       "  <thead>\n",
       "    <tr style=\"text-align: right;\">\n",
       "      <th></th>\n",
       "      <th>0</th>\n",
       "      <th>1</th>\n",
       "      <th>2</th>\n",
       "    </tr>\n",
       "  </thead>\n",
       "  <tbody>\n",
       "    <tr>\n",
       "      <th>0</th>\n",
       "      <td>Montgomery</td>\n",
       "      <td>Yellohammer state</td>\n",
       "      <td>52423</td>\n",
       "    </tr>\n",
       "    <tr>\n",
       "      <th>1</th>\n",
       "      <td>Sacramento</td>\n",
       "      <td>Golden state</td>\n",
       "      <td>163707</td>\n",
       "    </tr>\n",
       "    <tr>\n",
       "      <th>2</th>\n",
       "      <td>Oklahoma City</td>\n",
       "      <td>Sooner state</td>\n",
       "      <td>69960</td>\n",
       "    </tr>\n",
       "  </tbody>\n",
       "</table>\n",
       "</div>"
      ],
      "text/plain": [
       "               0                  1       2\n",
       "0     Montgomery  Yellohammer state   52423\n",
       "1     Sacramento       Golden state  163707\n",
       "2  Oklahoma City       Sooner state   69960"
      ]
     },
     "execution_count": 2,
     "metadata": {},
     "output_type": "execute_result"
    }
   ],
   "source": [
    "my_array = np.array([['Montgomery','Yellohammer state',52423],\n",
    "                     ['Sacramento','Golden state',163707],\n",
    "                     ['Oklahoma City','Sooner state',69960 ]])\n",
    "df = pd.DataFrame(my_array)\n",
    "df"
   ]
  },
  {
   "cell_type": "markdown",
   "metadata": {},
   "source": [
    "If you're familiar with Excel, much of Pandas may be familiar to you. Data frames are organized into rows and columns that are nameable. Columns are labeled with column names, rows with an index number (starting with zero by default). You can set both column names and indexes explicitly during the creation of the data frame or after the fact. Let's set both for `df` from above."
   ]
  },
  {
   "cell_type": "code",
   "execution_count": 3,
   "metadata": {},
   "outputs": [
    {
     "data": {
      "text/html": [
       "<div>\n",
       "<style scoped>\n",
       "    .dataframe tbody tr th:only-of-type {\n",
       "        vertical-align: middle;\n",
       "    }\n",
       "\n",
       "    .dataframe tbody tr th {\n",
       "        vertical-align: top;\n",
       "    }\n",
       "\n",
       "    .dataframe thead th {\n",
       "        text-align: right;\n",
       "    }\n",
       "</style>\n",
       "<table border=\"1\" class=\"dataframe\">\n",
       "  <thead>\n",
       "    <tr style=\"text-align: right;\">\n",
       "      <th></th>\n",
       "      <th>Capital</th>\n",
       "      <th>Nickname</th>\n",
       "      <th>Area</th>\n",
       "    </tr>\n",
       "  </thead>\n",
       "  <tbody>\n",
       "    <tr>\n",
       "      <th>Alabama</th>\n",
       "      <td>Montgomery</td>\n",
       "      <td>Yellohammer state</td>\n",
       "      <td>52423</td>\n",
       "    </tr>\n",
       "    <tr>\n",
       "      <th>California</th>\n",
       "      <td>Sacramento</td>\n",
       "      <td>Golden state</td>\n",
       "      <td>163707</td>\n",
       "    </tr>\n",
       "    <tr>\n",
       "      <th>Oklahoma</th>\n",
       "      <td>Oklahoma City</td>\n",
       "      <td>Sooner state</td>\n",
       "      <td>69960</td>\n",
       "    </tr>\n",
       "  </tbody>\n",
       "</table>\n",
       "</div>"
      ],
      "text/plain": [
       "                  Capital           Nickname    Area\n",
       "Alabama        Montgomery  Yellohammer state   52423\n",
       "California     Sacramento       Golden state  163707\n",
       "Oklahoma    Oklahoma City       Sooner state   69960"
      ]
     },
     "execution_count": 3,
     "metadata": {},
     "output_type": "execute_result"
    }
   ],
   "source": [
    "df.columns = ['Capital','Nickname','Area']\n",
    "df.index = ['Alabama','California','Oklahoma']\n",
    "df"
   ]
  },
  {
   "cell_type": "markdown",
   "metadata": {},
   "source": [
    "You can set the column and index names through the `column=` or `index` keyword arguments when you call the `pd.DataFrame()` function to initially construct the data frame."
   ]
  },
  {
   "cell_type": "code",
   "execution_count": 4,
   "metadata": {},
   "outputs": [
    {
     "data": {
      "text/html": [
       "<div>\n",
       "<style scoped>\n",
       "    .dataframe tbody tr th:only-of-type {\n",
       "        vertical-align: middle;\n",
       "    }\n",
       "\n",
       "    .dataframe tbody tr th {\n",
       "        vertical-align: top;\n",
       "    }\n",
       "\n",
       "    .dataframe thead th {\n",
       "        text-align: right;\n",
       "    }\n",
       "</style>\n",
       "<table border=\"1\" class=\"dataframe\">\n",
       "  <thead>\n",
       "    <tr style=\"text-align: right;\">\n",
       "      <th></th>\n",
       "      <th>Capital</th>\n",
       "      <th>Nickname</th>\n",
       "      <th>Area</th>\n",
       "    </tr>\n",
       "  </thead>\n",
       "  <tbody>\n",
       "    <tr>\n",
       "      <th>Alabama</th>\n",
       "      <td>Montgomery</td>\n",
       "      <td>Yellohammer state</td>\n",
       "      <td>52423</td>\n",
       "    </tr>\n",
       "    <tr>\n",
       "      <th>California</th>\n",
       "      <td>Sacramento</td>\n",
       "      <td>Golden state</td>\n",
       "      <td>163707</td>\n",
       "    </tr>\n",
       "    <tr>\n",
       "      <th>Oklahoma</th>\n",
       "      <td>Oklahoma City</td>\n",
       "      <td>Sooner state</td>\n",
       "      <td>69960</td>\n",
       "    </tr>\n",
       "  </tbody>\n",
       "</table>\n",
       "</div>"
      ],
      "text/plain": [
       "                  Capital           Nickname    Area\n",
       "Alabama        Montgomery  Yellohammer state   52423\n",
       "California     Sacramento       Golden state  163707\n",
       "Oklahoma    Oklahoma City       Sooner state   69960"
      ]
     },
     "execution_count": 4,
     "metadata": {},
     "output_type": "execute_result"
    }
   ],
   "source": [
    "df2 = pd.DataFrame(\n",
    "    my_array,\n",
    "    columns=['Capital','Nickname','Area'],\n",
    "    index=['Alabama','California','Oklahoma'])\n",
    "df2"
   ]
  },
  {
   "cell_type": "markdown",
   "metadata": {},
   "source": [
    "Whichever method you use, we now have a data frame with labeled rows and columns. This will be useful for working with data frames, because it makes these elements easily callable and makes your code more natural to write and simpler to read.\n",
    "\n",
    "\n",
    "<div class=\"note\">NOTE: you're probably used to seeing a space around <code>=</code> when used for assignment and <code>==</code>, which is used for comparison. In Python, the custom is to <a href=\"https://www.python.org/dev/peps/pep-0008/#other-recommendations\">omit spaces</a> around <code>=</code> with keyword arguments to improve readability and make it easy to distinguish keyword arguments from variable assignments. </div>\n",
    "\n",
    "#### Adding More Data\n",
    "To show what data frames can really do we're going to need to make something a little bit bigger. Let's assemble a data frame with named columns via lists. You can create an empty data frame by calling the `pd.DataFrame()` function and passing in the indexes you'd like to use for row names, then add columns using `df['COLUMN_NAME'] = [LIST_OF_VALUES]`."
   ]
  },
  {
   "cell_type": "code",
   "execution_count": 5,
   "metadata": {},
   "outputs": [
    {
     "data": {
      "text/html": [
       "<div>\n",
       "<style scoped>\n",
       "    .dataframe tbody tr th:only-of-type {\n",
       "        vertical-align: middle;\n",
       "    }\n",
       "\n",
       "    .dataframe tbody tr th {\n",
       "        vertical-align: top;\n",
       "    }\n",
       "\n",
       "    .dataframe thead th {\n",
       "        text-align: right;\n",
       "    }\n",
       "</style>\n",
       "<table border=\"1\" class=\"dataframe\">\n",
       "  <thead>\n",
       "    <tr style=\"text-align: right;\">\n",
       "      <th></th>\n",
       "      <th>country</th>\n",
       "      <th>ad_views</th>\n",
       "      <th>items_purchased</th>\n",
       "    </tr>\n",
       "  </thead>\n",
       "  <tbody>\n",
       "    <tr>\n",
       "      <th>George</th>\n",
       "      <td>US</td>\n",
       "      <td>16</td>\n",
       "      <td>2</td>\n",
       "    </tr>\n",
       "    <tr>\n",
       "      <th>John</th>\n",
       "      <td>CAN</td>\n",
       "      <td>42</td>\n",
       "      <td>1</td>\n",
       "    </tr>\n",
       "    <tr>\n",
       "      <th>Thomas</th>\n",
       "      <td>CAN</td>\n",
       "      <td>32</td>\n",
       "      <td>0</td>\n",
       "    </tr>\n",
       "    <tr>\n",
       "      <th>James</th>\n",
       "      <td>US</td>\n",
       "      <td>13</td>\n",
       "      <td>8</td>\n",
       "    </tr>\n",
       "    <tr>\n",
       "      <th>Andrew</th>\n",
       "      <td>CAN</td>\n",
       "      <td>63</td>\n",
       "      <td>0</td>\n",
       "    </tr>\n",
       "    <tr>\n",
       "      <th>Martin</th>\n",
       "      <td>US</td>\n",
       "      <td>19</td>\n",
       "      <td>5</td>\n",
       "    </tr>\n",
       "    <tr>\n",
       "      <th>William</th>\n",
       "      <td>US</td>\n",
       "      <td>65</td>\n",
       "      <td>7</td>\n",
       "    </tr>\n",
       "    <tr>\n",
       "      <th>Zachary</th>\n",
       "      <td>US</td>\n",
       "      <td>23</td>\n",
       "      <td>3</td>\n",
       "    </tr>\n",
       "    <tr>\n",
       "      <th>Millard</th>\n",
       "      <td>CAN</td>\n",
       "      <td>16</td>\n",
       "      <td>0</td>\n",
       "    </tr>\n",
       "    <tr>\n",
       "      <th>Franklin</th>\n",
       "      <td>US</td>\n",
       "      <td>77</td>\n",
       "      <td>5</td>\n",
       "    </tr>\n",
       "  </tbody>\n",
       "</table>\n",
       "</div>"
      ],
      "text/plain": [
       "         country  ad_views  items_purchased\n",
       "George        US        16                2\n",
       "John         CAN        42                1\n",
       "Thomas       CAN        32                0\n",
       "James         US        13                8\n",
       "Andrew       CAN        63                0\n",
       "Martin        US        19                5\n",
       "William       US        65                7\n",
       "Zachary       US        23                3\n",
       "Millard      CAN        16                0\n",
       "Franklin      US        77                5"
      ]
     },
     "execution_count": 5,
     "metadata": {},
     "output_type": "execute_result"
    }
   ],
   "source": [
    "# This list will become our row names.\n",
    "names = ['George',\n",
    "         'John',\n",
    "         'Thomas',\n",
    "         'James',\n",
    "         'Andrew',\n",
    "         'Martin',\n",
    "         'William',\n",
    "         'Zachary',\n",
    "         'Millard',\n",
    "         'Franklin']\n",
    "\n",
    "# Create an empty data frame with named rows.\n",
    "purchases = pd.DataFrame(index=names)\n",
    "\n",
    "# Add our columns to the data frame one at a time.\n",
    "purchases['country'] = ['US', 'CAN', 'CAN', 'US', 'CAN', 'US', 'US', 'US', 'CAN', 'US']\n",
    "purchases['ad_views'] = [16, 42, 32, 13, 63, 19, 65, 23, 16, 77]\n",
    "purchases['items_purchased'] = [2, 1, 0, 8, 0, 5, 7, 3, 0, 5]\n",
    "purchases "
   ]
  },
  {
   "cell_type": "markdown",
   "metadata": {},
   "source": [
    "Let's say this is the purchase and browsing history for several users of an ecommerce website for a given year. Page views is the number of pages they've loaded on the site and purchases is the number of items they've bought that year.\n",
    "\n",
    "Now we have a data frame we can do something with. First note that you can call out a column as a series using *either* dot notation *or* bracket notation: `df.column_name` or `df['column_name']` both work. So `purchases['Name']` returns the names of users who visited the ecommerce website, as does `purchases.Name`. **_Bracket notation is generally preferred and we'll use bracket notation here_**.\n",
    "\n",
    "Pandas also makes it very easy to create a new column out of our previous data. Let's say we want to create a column of the average items purchased per page view, and call the column `items_purch_per_view`. We can do that with this one-liner:"
   ]
  },
  {
   "cell_type": "code",
   "execution_count": 7,
   "metadata": {},
   "outputs": [
    {
     "data": {
      "text/html": [
       "<div>\n",
       "<style scoped>\n",
       "    .dataframe tbody tr th:only-of-type {\n",
       "        vertical-align: middle;\n",
       "    }\n",
       "\n",
       "    .dataframe tbody tr th {\n",
       "        vertical-align: top;\n",
       "    }\n",
       "\n",
       "    .dataframe thead th {\n",
       "        text-align: right;\n",
       "    }\n",
       "</style>\n",
       "<table border=\"1\" class=\"dataframe\">\n",
       "  <thead>\n",
       "    <tr style=\"text-align: right;\">\n",
       "      <th></th>\n",
       "      <th>country</th>\n",
       "      <th>ad_views</th>\n",
       "      <th>items_purchased</th>\n",
       "      <th>items_purch_per_ad</th>\n",
       "    </tr>\n",
       "  </thead>\n",
       "  <tbody>\n",
       "    <tr>\n",
       "      <th>George</th>\n",
       "      <td>US</td>\n",
       "      <td>16</td>\n",
       "      <td>2</td>\n",
       "      <td>0.125000</td>\n",
       "    </tr>\n",
       "    <tr>\n",
       "      <th>John</th>\n",
       "      <td>CAN</td>\n",
       "      <td>42</td>\n",
       "      <td>1</td>\n",
       "      <td>0.023810</td>\n",
       "    </tr>\n",
       "    <tr>\n",
       "      <th>Thomas</th>\n",
       "      <td>CAN</td>\n",
       "      <td>32</td>\n",
       "      <td>0</td>\n",
       "      <td>0.000000</td>\n",
       "    </tr>\n",
       "    <tr>\n",
       "      <th>James</th>\n",
       "      <td>US</td>\n",
       "      <td>13</td>\n",
       "      <td>8</td>\n",
       "      <td>0.615385</td>\n",
       "    </tr>\n",
       "    <tr>\n",
       "      <th>Andrew</th>\n",
       "      <td>CAN</td>\n",
       "      <td>63</td>\n",
       "      <td>0</td>\n",
       "      <td>0.000000</td>\n",
       "    </tr>\n",
       "    <tr>\n",
       "      <th>Martin</th>\n",
       "      <td>US</td>\n",
       "      <td>19</td>\n",
       "      <td>5</td>\n",
       "      <td>0.263158</td>\n",
       "    </tr>\n",
       "    <tr>\n",
       "      <th>William</th>\n",
       "      <td>US</td>\n",
       "      <td>65</td>\n",
       "      <td>7</td>\n",
       "      <td>0.107692</td>\n",
       "    </tr>\n",
       "    <tr>\n",
       "      <th>Zachary</th>\n",
       "      <td>US</td>\n",
       "      <td>23</td>\n",
       "      <td>3</td>\n",
       "      <td>0.130435</td>\n",
       "    </tr>\n",
       "    <tr>\n",
       "      <th>Millard</th>\n",
       "      <td>CAN</td>\n",
       "      <td>16</td>\n",
       "      <td>0</td>\n",
       "      <td>0.000000</td>\n",
       "    </tr>\n",
       "    <tr>\n",
       "      <th>Franklin</th>\n",
       "      <td>US</td>\n",
       "      <td>77</td>\n",
       "      <td>5</td>\n",
       "      <td>0.064935</td>\n",
       "    </tr>\n",
       "  </tbody>\n",
       "</table>\n",
       "</div>"
      ],
      "text/plain": [
       "         country  ad_views  items_purchased  items_purch_per_ad\n",
       "George        US        16                2            0.125000\n",
       "John         CAN        42                1            0.023810\n",
       "Thomas       CAN        32                0            0.000000\n",
       "James         US        13                8            0.615385\n",
       "Andrew       CAN        63                0            0.000000\n",
       "Martin        US        19                5            0.263158\n",
       "William       US        65                7            0.107692\n",
       "Zachary       US        23                3            0.130435\n",
       "Millard      CAN        16                0            0.000000\n",
       "Franklin      US        77                5            0.064935"
      ]
     },
     "execution_count": 7,
     "metadata": {},
     "output_type": "execute_result"
    }
   ],
   "source": [
    "purchases['items_purch_per_ad'] = purchases['items_purchased'] / purchases['ad_views']\n",
    "purchases"
   ]
  },
  {
   "cell_type": "markdown",
   "metadata": {},
   "source": [
    "If we just want to see those values and don't need to store them as a new column in our data frame we can just run that function without assigning it to purchases['items_purch_per_ad'] and it will return labeled values giving the name and the purchases per ad for each user."
   ]
  },
  {
   "cell_type": "code",
   "execution_count": 8,
   "metadata": {},
   "outputs": [
    {
     "data": {
      "text/plain": [
       "George      0.125000\n",
       "John        0.023810\n",
       "Thomas      0.000000\n",
       "James       0.615385\n",
       "Andrew      0.000000\n",
       "Martin      0.263158\n",
       "William     0.107692\n",
       "Zachary     0.130435\n",
       "Millard     0.000000\n",
       "Franklin    0.064935\n",
       "dtype: float64"
      ]
     },
     "execution_count": 8,
     "metadata": {},
     "output_type": "execute_result"
    }
   ],
   "source": [
    "purchases['items_purchased'] / purchases['ad_views']"
   ]
  }
 ],
 "metadata": {
  "kernelspec": {
   "display_name": "Python 3",
   "language": "python",
   "name": "python3"
  },
  "language_info": {
   "codemirror_mode": {
    "name": "ipython",
    "version": 3
   },
   "file_extension": ".py",
   "mimetype": "text/x-python",
   "name": "python",
   "nbconvert_exporter": "python",
   "pygments_lexer": "ipython3",
   "version": "3.7.1"
  }
 },
 "nbformat": 4,
 "nbformat_minor": 2
}
